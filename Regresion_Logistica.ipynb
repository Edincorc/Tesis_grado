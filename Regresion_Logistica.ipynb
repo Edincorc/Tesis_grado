{
 "cells": [
  {
   "cell_type": "markdown",
   "metadata": {},
   "source": [
    "# Ejemplo con datos 5.benign limpios y 8 datasets de ataques."
   ]
  },
  {
   "cell_type": "code",
   "execution_count": 1,
   "metadata": {},
   "outputs": [],
   "source": [
    "#Vamos a crear el modelo.\n",
    "import pandas as pd\n",
    "import numpy as np\n",
    "from sklearn import linear_model\n",
    "from sklearn import model_selection\n",
    "from sklearn.metrics import classification_report\n",
    "from sklearn.metrics import confusion_matrix\n",
    "from sklearn.metrics import accuracy_score\n",
    "from IPython.display import Image, display\n",
    "import matplotlib.pyplot as plt\n",
    "import seaborn as sns\n",
    "%matplotlib inline"
   ]
  },
  {
   "cell_type": "code",
   "execution_count": 2,
   "metadata": {},
   "outputs": [],
   "source": [
    "from sklearn.preprocessing import StandardScaler, MinMaxScaler, MaxAbsScaler, RobustScaler, QuantileTransformer, Normalizer\n",
    "from sklearn.metrics import accuracy_score, precision_recall_curve, classification_report, confusion_matrix, average_precision_score, roc_curve, auc\n",
    "%matplotlib inline"
   ]
  },
  {
   "cell_type": "code",
   "execution_count": 3,
   "metadata": {},
   "outputs": [],
   "source": [
    "def cargar_datos():\n",
    "    #x = pd.read_csv('/home/edinson/Documentos/U-distrital/Preprocesing/Repositorio/x5.csv')\n",
    "    x = pd.read_csv('/home/edinson/Documentos/U-distrital/Preprocesing/Repositorio/nbaiot-dataset/5.benign.csv')\n",
    "    columnas = x.columns\n",
    "    df1 = pd.DataFrame(columns = columnas)\n",
    "    df2 = pd.DataFrame(columns = columnas)\n",
    "    \n",
    "    \n",
    "    #normal1 = pd.read_csv('/home/edinson/Documentos/U-distrital/Preprocesing/Repositorio/x5.csv')\n",
    "    normal1 = pd.read_csv('/home/edinson/Documentos/U-distrital/Preprocesing/Repositorio/nbaiot-dataset/5.benign.csv')\n",
    "    df1 = df1.append(normal1, ignore_index=True, sort=False)\n",
    "    \n",
    "    n_X = df1.iloc[:,]\n",
    "    n_X_scaled = MinMaxScaler().fit_transform(n_X.values)\n",
    "    n_y = np.ones(n_X.shape[0]) # 1 represents normal\n",
    "\n",
    "    \n",
    "    devices_a = ['2.gafgyt.combo.csv', '2.gafgyt.junk.csv', '2.gafgyt.scan.csv', '2.gafgyt.tcp.csv', '2.gafgyt.udp.csv', '2.mirai.ack.csv', '2.mirai.scan.csv', '2.mirai.syn.csv']\n",
    "    for device_id, device_name in enumerate(devices_a, 1):\n",
    "        anomalo1 = pd.read_csv('/home/edinson/Documentos/U-distrital/Preprocesing/Repositorio/nbaiot-dataset/{}'.format(device_name))\n",
    "        df2 = df2.append(anomalo1, ignore_index=True, sort=False)\n",
    "    \n",
    "    a_X = df2.iloc[:,]\n",
    "    a_X_scaled = MinMaxScaler().fit_transform(a_X.values)\n",
    "    a_y = np.zeros(a_X.shape[0]) # 0 represents anomalous\n",
    "    \n",
    "    return (n_X_scaled, n_y, a_X_scaled, a_y)\n",
    "\n",
    "\n"
   ]
  },
  {
   "cell_type": "code",
   "execution_count": 4,
   "metadata": {},
   "outputs": [],
   "source": [
    "def agrupar_datos(n_X_scaled, n_y, a_X_scaled, a_y):\n",
    "    X = np.append(n_X_scaled, a_X_scaled, axis = 0)\n",
    "    #y_n = np.ones(n_X_scaled.shape[0])\n",
    "    #y_a = np.zeros(a_X_scaled.shape[0])\n",
    "    #y = np.append(y_n, y_a)\n",
    "    y = np.append(n_y, a_y)\n",
    "    \n",
    "    X = pd.DataFrame(X)#Ahora convertimos el array 'values' a un dataframe, usamos 'x' por que es la variable\n",
    "                   #con la que vamos a crear el modelo.\n",
    "    X.columns = X.columns #Le ponemos las columnas de movies_v2\n",
    "    \n",
    "    y = pd.DataFrame(y)\n",
    "    y = y.rename(columns={0:'clases'})\n",
    "    return (X, y)"
   ]
  },
  {
   "cell_type": "code",
   "execution_count": 14,
   "metadata": {},
   "outputs": [],
   "source": [
    "def crear_modelo_predeccion(X, y):\n",
    "    # Paso 3: importamos la clase LogisticRegresion de scikit-learn\n",
    "    from sklearn.linear_model import LogisticRegression\n",
    "    from sklearn.model_selection import train_test_split\n",
    "    \n",
    "    x_train, x_test, y_train, y_test = train_test_split(X, y, test_size=0.4, random_state=7) #40% para prueba y 60% para entrenamiento\n",
    "    \n",
    "    # Paso 4: Creamos una instancia de la Regresión Logística\n",
    "    regresion_logistica = LogisticRegression()\n",
    "    \n",
    "    # Paso 5: Entrena la regresión logística con los datos de entrenamiento\n",
    "    regresion_logistica.fit(x_train, y_train)\n",
    "    \n",
    "    # Paso 6: Usa el modelo entrenado para obtener las predicciones con datos nuevos\n",
    "    prediccion = regresion_logistica.predict(x_test)\n",
    "    prediccion = pd.DataFrame(prediccion)\n",
    "    prediccion = prediccion.rename(columns={0:'resultado'})\n",
    "    #print(prediccion)\n",
    "    return (prediccion, y_test)\n"
   ]
  },
  {
   "cell_type": "code",
   "execution_count": 15,
   "metadata": {},
   "outputs": [],
   "source": [
    "def imprimir_resultados(prediccion, y_test):\n",
    "    prediccion = prediccion.rename(columns={0:'resultado'})\n",
    "    \n",
    "    print (\"\")\n",
    "    print(\"CANTIDAD REGISTROS POR CLASE DEL TOTAL DE LOS DATOS\")\n",
    "    print(y.groupby('clases').size())\n",
    "    \n",
    "    print (\"\")\n",
    "    print(\"CANTIDAD DE REGISTROS PREDICHOS POR EL MODELO, TAMAÑO IGUAL A y_test\")\n",
    "    print(prediccion.groupby('resultado').size())\n",
    "    \n",
    "    print (\"\")\n",
    "    print(\"CANTIDAD CLASES POR REGISTROS  EN LA PRUEBA\")\n",
    "    print(y_test.groupby('clases').size())\n",
    "    \n",
    "    \n",
    "    print (\"\")\n",
    "    print(\"MATRIX DE CONFUSIÓN, PREDICCIONES CON LOS VALORES ESPERADOS \")\n",
    "    print(confusion_matrix(y_test, prediccion))\n",
    "    \n",
    "    print (\"\")\n",
    "    print(\"REPORTE DE CLASIFICACIÓN\")\n",
    "    print(classification_report(y_test, prediccion))\n",
    "    \n",
    "    print (\"Accuracy Score: \", accuracy_score(y_test, prediccion))\n",
    "    \n",
    "    print (\"\")\n",
    "    print(\"COMPARACIÓN DE LAS PREDICCIONES CON LOS VALORES ESPERADOS.\")\n",
    "    plt.hist([prediccion[\"resultado\"], y_test[\"clases\"]]);\n",
    "    "
   ]
  },
  {
   "cell_type": "code",
   "execution_count": 16,
   "metadata": {
    "scrolled": true
   },
   "outputs": [
    {
     "name": "stderr",
     "output_type": "stream",
     "text": [
      "/home/edinson/anaconda3/lib/python3.8/site-packages/sklearn/utils/validation.py:72: DataConversionWarning: A column-vector y was passed when a 1d array was expected. Please change the shape of y to (n_samples, ), for example using ravel().\n",
      "  return f(**kwargs)\n"
     ]
    },
    {
     "name": "stdout",
     "output_type": "stream",
     "text": [
      "\n",
      "CANTIDAD REGISTROS POR CLASE DEL TOTAL DE LOS DATOS\n",
      "clases\n",
      "0.0    583914\n",
      "1.0     62154\n",
      "dtype: int64\n",
      "\n",
      "CANTIDAD DE REGISTROS PREDICHOS POR EL MODELO, TAMAÑO IGUAL A y_test\n",
      "resultado\n",
      "0.0    233509\n",
      "1.0     24919\n",
      "dtype: int64\n",
      "\n",
      "CANTIDAD CLASES POR REGISTROS  EN LA PRUEBA\n",
      "clases\n",
      "0.0    233510\n",
      "1.0     24918\n",
      "dtype: int64\n",
      "\n",
      "MATRIX DE CONFUSIÓN, PREDICCIONES CON LOS VALORES ESPERADOS \n",
      "[[233509      1]\n",
      " [     0  24918]]\n",
      "\n",
      "REPORTE DE CLASIFICACIÓN\n",
      "              precision    recall  f1-score   support\n",
      "\n",
      "         0.0       1.00      1.00      1.00    233510\n",
      "         1.0       1.00      1.00      1.00     24918\n",
      "\n",
      "    accuracy                           1.00    258428\n",
      "   macro avg       1.00      1.00      1.00    258428\n",
      "weighted avg       1.00      1.00      1.00    258428\n",
      "\n",
      "Accuracy Score:  0.9999961304502608\n",
      "\n",
      "COMPARACIÓN DE LAS PREDICCIONES CON LOS VALORES ESPERADOS.\n"
     ]
    },
    {
     "data": {
      "image/png": "[encoded data removed]",
      "text/plain": [
       "<Figure size 432x288 with 1 Axes>"
      ]
     },
     "metadata": {
      "needs_background": "light"
     },
     "output_type": "display_data"
    }
   ],
   "source": [
    "(n_X_scaled, n_y, a_X_scaled, a_y) = cargar_datos()\n",
    "(X, y) = agrupar_datos(n_X_scaled, n_y, a_X_scaled, a_y)\n",
    "(prediccion, y_test) = crear_modelo_predeccion(X, y)\n",
    "imprimir_resultados(prediccion, y_test)\n"
   ]
  }
 ],
 "metadata": {
  "kernelspec": {
   "display_name": "Python 3",
   "language": "python",
   "name": "python3"
  },
  "language_info": {
   "codemirror_mode": {
    "name": "ipython",
    "version": 3
   },
   "file_extension": ".py",
   "mimetype": "text/x-python",
   "name": "python",
   "nbconvert_exporter": "python",
   "pygments_lexer": "ipython3",
   "version": "3.8.5"
  }
 },
 "nbformat": 4,
 "nbformat_minor": 4
}
