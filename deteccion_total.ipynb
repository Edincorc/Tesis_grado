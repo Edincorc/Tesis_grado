{
 "cells": [
  {
   "cell_type": "code",
   "execution_count": 1,
   "metadata": {},
   "outputs": [],
   "source": [
    "# Imports\n",
    "import os\n",
    "import numpy as np\n",
    "import matplotlib.pyplot as plt\n",
    "import pandas as pd\n",
    "import tensorflow as tf\n",
    "from tensorflow.python.client import device_lib\n",
    "import time\n",
    "import seaborn as sns\n",
    "import matplotlib.gridspec as gridspec\n",
    "\n",
    "from keras.layers import Input, Dense\n",
    "from keras import regularizers, Model\n",
    "from keras.models import Sequential\n",
    "\n",
    "from sklearn.manifold import TSNE\n",
    "from sklearn.linear_model import LogisticRegression\n",
    "from sklearn.model_selection import train_test_split\n",
    "from sklearn.preprocessing import StandardScaler, MinMaxScaler\n",
    "from sklearn.metrics import accuracy_score, precision_recall_curve, classification_report, confusion_matrix, average_precision_score, roc_curve, auc\n",
    "%matplotlib inline"
   ]
  },
  {
   "cell_type": "code",
   "execution_count": 2,
   "metadata": {},
   "outputs": [],
   "source": [
    "# Make sure that the dataset exists\n",
    "for dirname, _, filenames in os.walk('/home/edinson/Documentos/U-distrital/Deteccion_total/nbaiot-dataset'):\n",
    "    for filename in filenames:\n",
    "        print(os.path.join(dirname, filename))"
   ]
  },
  {
   "cell_type": "code",
   "execution_count": 3,
   "metadata": {},
   "outputs": [],
   "source": [
    "def cargar_datos():\n",
    "    data = pd.read_csv('/home/edinson/Documentos/U-distrital/nbaiot-dataset/5.benign.csv')\n",
    "    columnas = data.columns\n",
    "    df1 = pd.DataFrame(columns = columnas)\n",
    "    df2 = pd.DataFrame(columns = columnas)\n",
    "    \n",
    "    devices_n = ['Danmini_Doorbell', 'Ecobee_Thermostat', 'Ennio_Doorbell', 'Philips_B120N10_Baby_Monitor', 'Provision_PT_737E_Security_Camera', 'Provision_PT_838_Security_Camera', 'Samsung_SNH_1011_N_Webcam', 'SimpleHome_XCS7_1002_WHT_Security_Camera', 'SimpleHome_XCS7_1003_WHT_Security_Camera']\n",
    "    for device_id, device_name in enumerate(devices_n, 1):\n",
    "        normal1 = pd.read_csv('/home/edinson/Documentos/U-distrital/nbaiot-dataset/{}.benign.csv'.format(device_id))\n",
    "        df1 = df1.append(normal1, ignore_index=True, sort=False)\n",
    "    \n",
    "    n_X = df1.iloc[:,]\n",
    "    n_X_scaled = MinMaxScaler().fit_transform(n_X.values)\n",
    "    n_y = np.ones(n_X.shape[0]) # 1 represents normal\n",
    "\n",
    "    devices_a = ['1.gafgyt.combo.csv', '1.gafgyt.junk.csv', '1.gafgyt.scan.csv', '1.gafgyt.tcp.csv', '1.gafgyt.udp.csv', '1.mirai.ack.csv', '1.mirai.scan.csv', '1.mirai.syn.csv', '1.mirai.udp.csv', '1.mirai.udpplain.csv']\n",
    "    for device_id, device_name in enumerate(devices_a, 1):\n",
    "        anomalo1 = pd.read_csv('/home/edinson/Documentos/U-distrital/nbaiot-dataset/{}'.format(device_name))\n",
    "        df2 = df2.append(anomalo1, ignore_index=True, sort=False)\n",
    "    \n",
    "    a_X = df2.iloc[:,]\n",
    "    a_X_scaled = MinMaxScaler().fit_transform(a_X.values)\n",
    "    a_y = np.zeros(a_X.shape[0]) # 0 represents anomalous \n",
    "\n",
    "    return (n_X_scaled, n_y, a_X_scaled, a_y)\n",
    "    "
   ]
  },
  {
   "cell_type": "markdown",
   "metadata": {},
   "source": [
    "devices = ['Danmini_Doorbell', 'Ecobee_Thermostat', 'Ennio_Doorbell', 'Philips_B120N10_Baby_Monitor', 'Provision_PT_737E_Security_Camera', 'Provision_PT_838_Security_Camera', 'Samsung_SNH_1011_N_Webcam', 'SimpleHome_XCS7_1002_WHT_Security_Camera', 'SimpleHome_XCS7_1003_WHT_Security_Camera']\n",
    "#devices = ['Danmini_Doorbell', 'Ecobee_Thermostat']\n",
    "for device_id, device_name in enumerate(devices, 1):\n",
    "    detect_zero_day_attack(device_name, device_id)\n",
    "1.benign.csv\n",
    "2.benign.csv\n",
    "3.benign.csv\n",
    "4.benign.csv\n",
    "5.benign.csv\n",
    "6.benign.csv\n",
    "7.benign.csv\n",
    "8.benign.csv\n",
    "9.benign.csv\n",
    "1.gafgyt.combo.csv\n",
    "1.gafgyt.junk.csv\n",
    "1.gafgyt.scan.csv\n",
    "1.gafgyt.tcp.csv\n",
    "1.gafgyt.udp.csv\n",
    "1.mirai.ack.csv\n",
    "1.mirai.scan.csv\n",
    "1.mirai.syn.csv\n",
    "1.mirai.udp.csv\n",
    "1.mirai.udpplain.csv\n"
   ]
  },
  {
   "cell_type": "markdown",
   "metadata": {},
   "source": [
    "import pandas as pd\n",
    "devices = ['Danmini_Doorbell', 'Ecobee_Thermostat', 'Ennio_Doorbell', 'Philips_B120N10_Baby_Monitor', 'Provision_PT_737E_Security_Camera', 'Provision_PT_838_Security_Camera', 'Samsung_SNH_1011_N_Webcam', 'SimpleHome_XCS7_1002_WHT_Security_Camera', 'SimpleHome_XCS7_1003_WHT_Security_Camera']\n",
    "#devices = ['Danmini_Doorbell', 'Ecobee_Thermostat']\n",
    "anomalos = ['1.gafgyt.combo.csv', '1.gafgyt.junk.csv', '1.gafgyt.scan.csv', '1.gafgyt.tcp.csv', '1.gafgyt.udp.csv', '1.mirai.ack.csv', '1.mirai.scan.csv', '1.mirai.syn.csv', '1.mirai.udp.csv', '1.mirai.udpplain.csv']\n",
    "for device_id, device_name in enumerate(devices, 1):\n",
    "    detect_zero_day_attack(device_name, device_id)"
   ]
  },
  {
   "cell_type": "code",
   "execution_count": 4,
   "metadata": {},
   "outputs": [],
   "source": [
    "# AutoEncoder\n",
    "\n",
    "def generate_and_train_autoencoder(X):\n",
    "    ## input layer \n",
    "    input_layer = Input(shape=(X.shape[1],))\n",
    "\n",
    "    ## encoding part\n",
    "    encoded = Dense(100, activation='tanh', activity_regularizer=regularizers.l1(10e-5))(input_layer)\n",
    "    encoded = Dense(50, activation='relu')(encoded)\n",
    "\n",
    "    ## decoding part\n",
    "    decoded = Dense(50, activation='tanh')(encoded)\n",
    "    decoded = Dense(100, activation='tanh')(decoded)\n",
    "\n",
    "    ## output layer\n",
    "    output_layer = Dense(X.shape[1], activation='relu')(decoded)\n",
    "\n",
    "    autoencoder = Model(input_layer, output_layer)\n",
    "    autoencoder.compile(optimizer=\"adadelta\", loss=\"mse\")\n",
    "\n",
    "    autoencoder.fit(X[0:1000], X[0:1000], \n",
    "                    batch_size = 256, epochs = 10, \n",
    "                    shuffle = True, validation_split = 0.20);\n",
    "\n",
    "    return autoencoder"
   ]
  },
  {
   "cell_type": "code",
   "execution_count": 5,
   "metadata": {},
   "outputs": [],
   "source": [
    "# hidden representation\n",
    "def get_hidden_representation_normal_anomalous(autoencoder, n_X, a_X):\n",
    "    hidden_representation = Sequential()\n",
    "    hidden_representation.add(autoencoder.layers[0])\n",
    "    hidden_representation.add(autoencoder.layers[1])\n",
    "    hidden_representation.add(autoencoder.layers[2])\n",
    "\n",
    "    normal_hid_rep = hidden_representation.predict(n_X[:3000])\n",
    "    anomalous_hid_rep = hidden_representation.predict(a_X[:3000])\n",
    "\n",
    "    return (normal_hid_rep, anomalous_hid_rep)"
   ]
  },
  {
   "cell_type": "code",
   "execution_count": 6,
   "metadata": {},
   "outputs": [],
   "source": [
    "def tsne_plot(x, y, title=\"Scatter Plot\", name=\"graph.png\"):\n",
    "    tsne = TSNE(n_components=2, random_state=0)\n",
    "    X_t = tsne.fit_transform(x)\n",
    "\n",
    "    plt.figure(figsize=(12, 8))\n",
    "    plt.scatter(X_t[np.where(y == 1), 0], X_t[np.where(y == 1), 1], marker='o', color='g', linewidth='1', alpha=0.8, label='Normal')\n",
    "    plt.scatter(X_t[np.where(y == 0), 0], X_t[np.where(y == 0), 1], marker='o', color='r', linewidth='1', alpha=0.8, label='Anomalous')\n",
    "\n",
    "    plt.title(title)\n",
    "    plt.legend(loc='best');\n",
    "    plt.savefig('{}-{}'.format(title,name));\n",
    "    plt.show();"
   ]
  },
  {
   "cell_type": "code",
   "execution_count": 7,
   "metadata": {},
   "outputs": [],
   "source": [
    "# Combine normal and anomalous data\n",
    "def combine_normal_anomalous(normal, anomalous):\n",
    "    X = np.append(normal, anomalous, axis = 0)\n",
    "    y_n = np.ones(normal.shape[0])\n",
    "    y_a = np.zeros(anomalous.shape[0])\n",
    "    y = np.append(y_n, y_a)\n",
    "\n",
    "    return (X, y)"
   ]
  },
  {
   "cell_type": "code",
   "execution_count": 8,
   "metadata": {},
   "outputs": [],
   "source": [
    "# Evaluate model's performace\n",
    "def evaluate_model(X, y):\n",
    "    train_X, test_X, train_y, test_y = train_test_split(X, y, test_size=0.2)\n",
    "    clf = LogisticRegression(solver=\"lbfgs\").fit(train_X, train_y)\n",
    "    pred_y = clf.predict(test_X)\n",
    "    return (test_y, pred_y)"
   ]
  },
  {
   "cell_type": "code",
   "execution_count": 9,
   "metadata": {},
   "outputs": [],
   "source": [
    "# Show model's report\n",
    "def show_model_report(title, X, y, hid_X, hid_y, test_y, pred_y):\n",
    "    #tsne_plot(X, y, '{}-original'.format(title), \"original.png\")\n",
    "    #tsne_plot(hid_X, hid_y, title, \"hidden_representation.png\")\n",
    "\n",
    "    print(title)\n",
    "    print (\"\")\n",
    "    print (\"Classification Report: \")\n",
    "    print (classification_report(test_y, pred_y))\n",
    "    \n",
    "    print (\"\")\n",
    "    print(\"MATRIX DE CONFUSIÓN, PREDICCIONES CON LOS VALORES ESPERADOS \")\n",
    "    print(confusion_matrix(test_y, pred_y))\n",
    "\n",
    "    print (\"\")\n",
    "    print (\"Accuracy Score: \", accuracy_score(test_y, pred_y))"
   ]
  },
  {
   "cell_type": "code",
   "execution_count": 10,
   "metadata": {},
   "outputs": [],
   "source": [
    "def detect_zero_day_attack(device_name):\n",
    "    (n_X_scaled, n_y, a_X_scaled, a_y) = cargar_datos()\n",
    "    autoencoder = generate_and_train_autoencoder(n_X_scaled)\n",
    "    (normal_hid_rep, anomalous_hid_rep) = get_hidden_representation_normal_anomalous(autoencoder, n_X_scaled, a_X_scaled)\n",
    "    (X, y) = combine_normal_anomalous(n_X_scaled, a_X_scaled)\n",
    "    (hid_X, hid_y) = combine_normal_anomalous(normal_hid_rep, anomalous_hid_rep)\n",
    "    (test_y, pred_y) = evaluate_model(hid_X, hid_y)\n",
    "    show_model_report(device_name, X, y, hid_X, hid_y, test_y, pred_y)"
   ]
  },
  {
   "cell_type": "code",
   "execution_count": 11,
   "metadata": {},
   "outputs": [
    {
     "name": "stdout",
     "output_type": "stream",
     "text": [
      "Epoch 1/10\n",
      "4/4 [==============================] - 1s 151ms/step - loss: 0.0369 - val_loss: 0.0355\n",
      "Epoch 2/10\n",
      "4/4 [==============================] - 0s 43ms/step - loss: 0.0369 - val_loss: 0.0355\n",
      "Epoch 3/10\n",
      "4/4 [==============================] - 0s 53ms/step - loss: 0.0369 - val_loss: 0.0355\n",
      "Epoch 4/10\n",
      "4/4 [==============================] - 0s 49ms/step - loss: 0.0369 - val_loss: 0.0355\n",
      "Epoch 5/10\n",
      "4/4 [==============================] - 0s 35ms/step - loss: 0.0369 - val_loss: 0.0354\n",
      "Epoch 6/10\n",
      "4/4 [==============================] - 0s 38ms/step - loss: 0.0368 - val_loss: 0.0354\n",
      "Epoch 7/10\n",
      "4/4 [==============================] - 0s 48ms/step - loss: 0.0368 - val_loss: 0.0354\n",
      "Epoch 8/10\n",
      "4/4 [==============================] - 0s 42ms/step - loss: 0.0368 - val_loss: 0.0354\n",
      "Epoch 9/10\n",
      "4/4 [==============================] - 0s 36ms/step - loss: 0.0368 - val_loss: 0.0354\n",
      "Epoch 10/10\n",
      "4/4 [==============================] - 0s 36ms/step - loss: 0.0368 - val_loss: 0.0354\n",
      "detección_total\n",
      "\n",
      "Classification Report: \n",
      "              precision    recall  f1-score   support\n",
      "\n",
      "         0.0       1.00      1.00      1.00       614\n",
      "         1.0       1.00      1.00      1.00       586\n",
      "\n",
      "    accuracy                           1.00      1200\n",
      "   macro avg       1.00      1.00      1.00      1200\n",
      "weighted avg       1.00      1.00      1.00      1200\n",
      "\n",
      "\n",
      "MATRIX DE CONFUSIÓN, PREDICCIONES CON LOS VALORES ESPERADOS \n",
      "[[613   1]\n",
      " [  0 586]]\n",
      "\n",
      "Accuracy Score:  0.9991666666666666\n"
     ]
    }
   ],
   "source": [
    "devices = ['detección_total']\n",
    "#devices = ['Danmini_Doorbell', 'Ecobee_Thermostat']\n",
    "for device_id, device_name in enumerate(devices, 1):\n",
    "    detect_zero_day_attack(device_name)"
   ]
  }
 ],
 "metadata": {
  "kernelspec": {
   "display_name": "Python 3",
   "language": "python",
   "name": "python3"
  },
  "language_info": {
   "codemirror_mode": {
    "name": "ipython",
    "version": 3
   },
   "file_extension": ".py",
   "mimetype": "text/x-python",
   "name": "python",
   "nbconvert_exporter": "python",
   "pygments_lexer": "ipython3",
   "version": "3.8.5"
  }
 },
 "nbformat": 4,
 "nbformat_minor": 2
}
